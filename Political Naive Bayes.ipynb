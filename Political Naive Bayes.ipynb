{
 "cells": [
  {
   "cell_type": "markdown",
   "metadata": {},
   "source": [
    "## Naive Bayes on Political Text\n",
    "\n",
    "In this notebook we use Naive Bayes to explore and classify political data. See the `README.md` for full details. You can download the required DB from the shared dropbox or from blackboard"
   ]
  },
  {
   "cell_type": "code",
   "execution_count": 115,
   "metadata": {},
   "outputs": [],
   "source": [
    "import sqlite3\n",
    "import nltk\n",
    "import random\n",
    "import numpy as np\n",
    "import re\n",
    "from collections import Counter, defaultdict\n",
    "\n",
    "# Imports added by me\n",
    "import pandas as pd\n",
    "from string import punctuation\n",
    "from contractions import fix\n",
    "import matplotlib.pyplot as plt\n",
    "import seaborn as sns\n",
    "from sklearn.metrics import accuracy_score, precision_score, recall_score, confusion_matrix, ConfusionMatrixDisplay"
   ]
  },
  {
   "cell_type": "code",
   "execution_count": 10,
   "metadata": {},
   "outputs": [],
   "source": [
    "convention_db = sqlite3.connect(\"2020_Conventions.db\")\n",
    "convention_cur = convention_db.cursor()"
   ]
  },
  {
   "cell_type": "markdown",
   "metadata": {},
   "source": [
    "### Part 1: Exploratory Naive Bayes\n",
    "\n",
    "We'll first build a NB model on the convention data itself, as a way to understand what words distinguish between the two parties. This is analogous to what we did in the \"Comparing Groups\" class work. First, pull in the text \n",
    "for each party and prepare it for use in Naive Bayes.  "
   ]
  },
  {
   "cell_type": "code",
   "execution_count": 25,
   "metadata": {},
   "outputs": [
    {
     "name": "stdout",
     "output_type": "stream",
     "text": [
      "conventions\n"
     ]
    }
   ],
   "source": [
    "# First figure out what table is named within convention_db to be able to query\n",
    "convention_cur.execute(\"SELECT name FROM sqlite_master WHERE type='table';\")\n",
    "tables = convention_cur.fetchall()\n",
    "\n",
    "# Print all table names within the db\n",
    "for i in tables:\n",
    "    print(i[0])"
   ]
  },
  {
   "cell_type": "code",
   "execution_count": 27,
   "metadata": {},
   "outputs": [
    {
     "name": "stdout",
     "output_type": "stream",
     "text": [
      "['party', 'night', 'speaker', 'speaker_count', 'time', 'text', 'text_len', 'file']\n",
      "('Democratic', 4, 'Unknown', 1, '00:00', 'Skip to content The Company Careers Press Freelancers Blog × Services Transcription Captions Foreign Subtitles Translation Freelancers About Contact Login « Return to Transcript Library home  Transcript Categories  All Transcripts 2020 Election Transcripts Classic Speech Transcripts Congressional Testimony & Hearing Transcripts Debate Transcripts Donald Trump Transcripts Entertainment Transcripts Financial Transcripts Interview Transcripts Political Transcripts Press Conference Transcripts Speech Transcripts Sports Transcripts Technology Transcripts Aug 21, 2020 2020 Democratic National Convention (DNC) Night 4 Transcript Rev  ›  Blog  ›  Transcripts  › 2020 Election Transcripts  ›  2020 Democratic National Convention (DNC) Night 4 Transcript Night 4 of the 2020 Democratic National Convention (DNC) on August 20. Read the full transcript of the event here. Transcribe Your Own Content  Try Rev for free  and save time transcribing, captioning, and subtitling.', '127', 'www_rev_com_blog_transcripts2020-democratic-national-convention-dnc-night-4-transcript.txt')\n",
      "('Democratic', 4, 'Speaker 1', 1, '00:33', 'I’m here by calling the full session of the 48th Quadrennial National Convention of the Democratic Party to order. Welcome all to our final session of this historic and memorable convention. We’ve called the 48th Quadrennial Democratic National Convention to order.', '41', 'www_rev_com_blog_transcripts2020-democratic-national-convention-dnc-night-4-transcript.txt')\n",
      "('Democratic', 4, 'Speaker 2', 1, '00:59', 'Every four years, we come together to reaffirm our democracy. This year, we’ve come to save it.', '17', 'www_rev_com_blog_transcripts2020-democratic-national-convention-dnc-night-4-transcript.txt')\n",
      "('Democratic', 4, 'Kerry Washington', 1, '01:07', 'We fight for a more perfect union because we are fighting for the soul of this country and for our lives. And right now that fight is real.', '28', 'www_rev_com_blog_transcripts2020-democratic-national-convention-dnc-night-4-transcript.txt')\n",
      "('Democratic', 4, 'Bernie Sanders', 1, '01:18', 'We must come together to defeat Donald Trump, and elect Joe Biden and Kamala Harris as our next President and Vice President.', '22', 'www_rev_com_blog_transcripts2020-democratic-national-convention-dnc-night-4-transcript.txt')\n"
     ]
    }
   ],
   "source": [
    "# Preview the data in the table conventions so I can properly query it in the next cell\n",
    "convention_cur.execute(\"SELECT * FROM conventions LIMIT 5;\")\n",
    "rows = convention_cur.fetchall()\n",
    "\n",
    "# Get & print column names\n",
    "column_names = [i[0] for i in convention_cur.description]\n",
    "print(column_names)\n",
    "\n",
    "# Print each row\n",
    "for j in rows:\n",
    "    print(j)"
   ]
  },
  {
   "cell_type": "code",
   "execution_count": 24,
   "metadata": {},
   "outputs": [
    {
     "data": {
      "text/html": [
       "<div>\n",
       "<style scoped>\n",
       "    .dataframe tbody tr th:only-of-type {\n",
       "        vertical-align: middle;\n",
       "    }\n",
       "\n",
       "    .dataframe tbody tr th {\n",
       "        vertical-align: top;\n",
       "    }\n",
       "\n",
       "    .dataframe thead th {\n",
       "        text-align: right;\n",
       "    }\n",
       "</style>\n",
       "<table border=\"1\" class=\"dataframe\">\n",
       "  <thead>\n",
       "    <tr style=\"text-align: right;\">\n",
       "      <th></th>\n",
       "      <th>party</th>\n",
       "      <th>night</th>\n",
       "      <th>speaker</th>\n",
       "      <th>speaker_count</th>\n",
       "      <th>time</th>\n",
       "      <th>text</th>\n",
       "      <th>text_len</th>\n",
       "      <th>file</th>\n",
       "    </tr>\n",
       "  </thead>\n",
       "  <tbody>\n",
       "    <tr>\n",
       "      <th>0</th>\n",
       "      <td>Democratic</td>\n",
       "      <td>4</td>\n",
       "      <td>Unknown</td>\n",
       "      <td>1</td>\n",
       "      <td>00:00</td>\n",
       "      <td>Skip to content The Company Careers Press Free...</td>\n",
       "      <td>127</td>\n",
       "      <td>www_rev_com_blog_transcripts2020-democratic-na...</td>\n",
       "    </tr>\n",
       "    <tr>\n",
       "      <th>1</th>\n",
       "      <td>Democratic</td>\n",
       "      <td>4</td>\n",
       "      <td>Speaker 1</td>\n",
       "      <td>1</td>\n",
       "      <td>00:33</td>\n",
       "      <td>I’m here by calling the full session of the 48...</td>\n",
       "      <td>41</td>\n",
       "      <td>www_rev_com_blog_transcripts2020-democratic-na...</td>\n",
       "    </tr>\n",
       "    <tr>\n",
       "      <th>2</th>\n",
       "      <td>Democratic</td>\n",
       "      <td>4</td>\n",
       "      <td>Speaker 2</td>\n",
       "      <td>1</td>\n",
       "      <td>00:59</td>\n",
       "      <td>Every four years, we come together to reaffirm...</td>\n",
       "      <td>17</td>\n",
       "      <td>www_rev_com_blog_transcripts2020-democratic-na...</td>\n",
       "    </tr>\n",
       "    <tr>\n",
       "      <th>3</th>\n",
       "      <td>Democratic</td>\n",
       "      <td>4</td>\n",
       "      <td>Kerry Washington</td>\n",
       "      <td>1</td>\n",
       "      <td>01:07</td>\n",
       "      <td>We fight for a more perfect union because we a...</td>\n",
       "      <td>28</td>\n",
       "      <td>www_rev_com_blog_transcripts2020-democratic-na...</td>\n",
       "    </tr>\n",
       "    <tr>\n",
       "      <th>4</th>\n",
       "      <td>Democratic</td>\n",
       "      <td>4</td>\n",
       "      <td>Bernie Sanders</td>\n",
       "      <td>1</td>\n",
       "      <td>01:18</td>\n",
       "      <td>We must come together to defeat Donald Trump, ...</td>\n",
       "      <td>22</td>\n",
       "      <td>www_rev_com_blog_transcripts2020-democratic-na...</td>\n",
       "    </tr>\n",
       "  </tbody>\n",
       "</table>\n",
       "</div>"
      ],
      "text/plain": [
       "        party  night           speaker  speaker_count   time  \\\n",
       "0  Democratic      4           Unknown              1  00:00   \n",
       "1  Democratic      4         Speaker 1              1  00:33   \n",
       "2  Democratic      4         Speaker 2              1  00:59   \n",
       "3  Democratic      4  Kerry Washington              1  01:07   \n",
       "4  Democratic      4    Bernie Sanders              1  01:18   \n",
       "\n",
       "                                                text text_len  \\\n",
       "0  Skip to content The Company Careers Press Free...      127   \n",
       "1  I’m here by calling the full session of the 48...       41   \n",
       "2  Every four years, we come together to reaffirm...       17   \n",
       "3  We fight for a more perfect union because we a...       28   \n",
       "4  We must come together to defeat Donald Trump, ...       22   \n",
       "\n",
       "                                                file  \n",
       "0  www_rev_com_blog_transcripts2020-democratic-na...  \n",
       "1  www_rev_com_blog_transcripts2020-democratic-na...  \n",
       "2  www_rev_com_blog_transcripts2020-democratic-na...  \n",
       "3  www_rev_com_blog_transcripts2020-democratic-na...  \n",
       "4  www_rev_com_blog_transcripts2020-democratic-na...  "
      ]
     },
     "execution_count": 24,
     "metadata": {},
     "output_type": "execute_result"
    }
   ],
   "source": [
    "# Load in all of conventions data prior to cleaning it out \n",
    "query1 = '''SELECT * FROM conventions;'''\n",
    "\n",
    "conventions_raw_df = pd.read_sql_query(query1, convention_db)\n",
    "conventions_raw_df.head()"
   ]
  },
  {
   "cell_type": "code",
   "execution_count": 64,
   "metadata": {},
   "outputs": [
    {
     "data": {
      "text/html": [
       "<div>\n",
       "<style scoped>\n",
       "    .dataframe tbody tr th:only-of-type {\n",
       "        vertical-align: middle;\n",
       "    }\n",
       "\n",
       "    .dataframe tbody tr th {\n",
       "        vertical-align: top;\n",
       "    }\n",
       "\n",
       "    .dataframe thead th {\n",
       "        text-align: right;\n",
       "    }\n",
       "</style>\n",
       "<table border=\"1\" class=\"dataframe\">\n",
       "  <thead>\n",
       "    <tr style=\"text-align: right;\">\n",
       "      <th></th>\n",
       "      <th>party</th>\n",
       "      <th>night</th>\n",
       "      <th>speaker</th>\n",
       "      <th>speaker_count</th>\n",
       "      <th>time</th>\n",
       "      <th>text</th>\n",
       "      <th>text_len</th>\n",
       "      <th>file</th>\n",
       "      <th>tokens</th>\n",
       "    </tr>\n",
       "  </thead>\n",
       "  <tbody>\n",
       "    <tr>\n",
       "      <th>0</th>\n",
       "      <td>Democratic</td>\n",
       "      <td>4</td>\n",
       "      <td>Unknown</td>\n",
       "      <td>1</td>\n",
       "      <td>00:00</td>\n",
       "      <td>Skip to content The Company Careers Press Free...</td>\n",
       "      <td>127</td>\n",
       "      <td>www_rev_com_blog_transcripts2020-democratic-na...</td>\n",
       "      <td>[skip, content, company, careers, press, freel...</td>\n",
       "    </tr>\n",
       "    <tr>\n",
       "      <th>1</th>\n",
       "      <td>Democratic</td>\n",
       "      <td>4</td>\n",
       "      <td>Speaker 1</td>\n",
       "      <td>1</td>\n",
       "      <td>00:33</td>\n",
       "      <td>I’m here by calling the full session of the 48...</td>\n",
       "      <td>41</td>\n",
       "      <td>www_rev_com_blog_transcripts2020-democratic-na...</td>\n",
       "      <td>[calling, full, session, 48th, quadrennial, na...</td>\n",
       "    </tr>\n",
       "    <tr>\n",
       "      <th>2</th>\n",
       "      <td>Democratic</td>\n",
       "      <td>4</td>\n",
       "      <td>Speaker 2</td>\n",
       "      <td>1</td>\n",
       "      <td>00:59</td>\n",
       "      <td>Every four years, we come together to reaffirm...</td>\n",
       "      <td>17</td>\n",
       "      <td>www_rev_com_blog_transcripts2020-democratic-na...</td>\n",
       "      <td>[every, four, years, come, together, reaffirm,...</td>\n",
       "    </tr>\n",
       "    <tr>\n",
       "      <th>3</th>\n",
       "      <td>Democratic</td>\n",
       "      <td>4</td>\n",
       "      <td>Kerry Washington</td>\n",
       "      <td>1</td>\n",
       "      <td>01:07</td>\n",
       "      <td>We fight for a more perfect union because we a...</td>\n",
       "      <td>28</td>\n",
       "      <td>www_rev_com_blog_transcripts2020-democratic-na...</td>\n",
       "      <td>[fight, perfect, union, fighting, soul, countr...</td>\n",
       "    </tr>\n",
       "    <tr>\n",
       "      <th>4</th>\n",
       "      <td>Democratic</td>\n",
       "      <td>4</td>\n",
       "      <td>Bernie Sanders</td>\n",
       "      <td>1</td>\n",
       "      <td>01:18</td>\n",
       "      <td>We must come together to defeat Donald Trump, ...</td>\n",
       "      <td>22</td>\n",
       "      <td>www_rev_com_blog_transcripts2020-democratic-na...</td>\n",
       "      <td>[must, come, together, defeat, donald, trump, ...</td>\n",
       "    </tr>\n",
       "  </tbody>\n",
       "</table>\n",
       "</div>"
      ],
      "text/plain": [
       "        party  night           speaker  speaker_count   time  \\\n",
       "0  Democratic      4           Unknown              1  00:00   \n",
       "1  Democratic      4         Speaker 1              1  00:33   \n",
       "2  Democratic      4         Speaker 2              1  00:59   \n",
       "3  Democratic      4  Kerry Washington              1  01:07   \n",
       "4  Democratic      4    Bernie Sanders              1  01:18   \n",
       "\n",
       "                                                text text_len  \\\n",
       "0  Skip to content The Company Careers Press Free...      127   \n",
       "1  I’m here by calling the full session of the 48...       41   \n",
       "2  Every four years, we come together to reaffirm...       17   \n",
       "3  We fight for a more perfect union because we a...       28   \n",
       "4  We must come together to defeat Donald Trump, ...       22   \n",
       "\n",
       "                                                file  \\\n",
       "0  www_rev_com_blog_transcripts2020-democratic-na...   \n",
       "1  www_rev_com_blog_transcripts2020-democratic-na...   \n",
       "2  www_rev_com_blog_transcripts2020-democratic-na...   \n",
       "3  www_rev_com_blog_transcripts2020-democratic-na...   \n",
       "4  www_rev_com_blog_transcripts2020-democratic-na...   \n",
       "\n",
       "                                              tokens  \n",
       "0  [skip, content, company, careers, press, freel...  \n",
       "1  [calling, full, session, 48th, quadrennial, na...  \n",
       "2  [every, four, years, come, together, reaffirm,...  \n",
       "3  [fight, perfect, union, fighting, soul, countr...  \n",
       "4  [must, come, together, defeat, donald, trump, ...  "
      ]
     },
     "execution_count": 64,
     "metadata": {},
     "output_type": "execute_result"
    }
   ],
   "source": [
    "# Clean & tokenize text field as instructed to for final convention_data list of lists in cell below\n",
    "\n",
    "# Use functions from last assignment for cleaning & tokenization \n",
    "sw = nltk.corpus.stopwords.words(\"english\")\n",
    "punctuation=set(punctuation)\n",
    "\n",
    "def remove_stop(tokens):\n",
    "    # Return all tokens that are not in sw (stopwords)\n",
    "    tokens = [word for word in tokens if word not in sw]\n",
    "    return(tokens)\n",
    " \n",
    "def remove_punctuation(text, punct_set=punctuation): \n",
    "    return(\"\".join([ch for ch in text if ch not in punct_set]))\n",
    "\n",
    "def tokenize(text): \n",
    "    \"\"\" Splitting on whitespace rather than the book's tokenize function. That \n",
    "        function will drop tokens like '#hashtag' or '2A', which we need for Twitter. \"\"\"\n",
    "    collapse_whitespace = re.compile(r'\\s+')\n",
    "    return(collapse_whitespace.split(text))\n",
    "\n",
    "def fold_lowercase(text):\n",
    "    # Cast to string first - in case anything is not already a string\n",
    "    text = str(text)\n",
    "    return text.lower()\n",
    "\n",
    "def expand_contractions(text):\n",
    "    # Expand out contractions using contractions package\n",
    "    return fix(text)\n",
    "\n",
    "def remove_empty_tokens(tokens):\n",
    "    # Remove any empty tokens\n",
    "    tokens = [word for word in tokens if word != '']\n",
    "    return(tokens)\n",
    "\n",
    "def prepare(text, \n",
    "            pipeline=[fold_lowercase, expand_contractions, remove_punctuation, tokenize, remove_stop, \n",
    "                      remove_empty_tokens]): \n",
    "\n",
    "    for transform in pipeline: \n",
    "        text = transform(text)\n",
    "        \n",
    "    return(text)\n",
    "\n",
    "# Use pipeline to clean & tokenize \"text\" column\n",
    "default_pipeline = [\n",
    "    fold_lowercase,\n",
    "    expand_contractions,\n",
    "    remove_punctuation,\n",
    "    tokenize,\n",
    "    remove_stop,\n",
    "    remove_empty_tokens\n",
    "]\n",
    "\n",
    "conventions_raw_df[\"tokens\"] = conventions_raw_df[\"text\"].apply(prepare,pipeline=default_pipeline)\n",
    "conventions_raw_df.head()"
   ]
  },
  {
   "cell_type": "code",
   "execution_count": 75,
   "metadata": {},
   "outputs": [
    {
     "name": "stdout",
     "output_type": "stream",
     "text": [
      "[[['skip', 'content', 'company', 'careers', 'press', 'freelancers', 'blog', '×', 'services', 'transcription', 'captions', 'foreign', 'subtitles', 'translation', 'freelancers', 'contact', 'login', '«', 'return', 'transcript', 'library', 'home', 'transcript', 'categories', 'transcripts', '2020', 'election', 'transcripts', 'classic', 'speech', 'transcripts', 'congressional', 'testimony', 'hearing', 'transcripts', 'debate', 'transcripts', 'donald', 'trump', 'transcripts', 'entertainment', 'transcripts', 'financial', 'transcripts', 'interview', 'transcripts', 'political', 'transcripts', 'press', 'conference', 'transcripts', 'speech', 'transcripts', 'sports', 'transcripts', 'technology', 'transcripts', 'aug', '21', '2020', '2020', 'democratic', 'national', 'convention', 'dnc', 'night', '4', 'transcript', 'rev', '›', 'blog', '›', 'transcripts', '›', '2020', 'election', 'transcripts', '›', '2020', 'democratic', 'national', 'convention', 'dnc', 'night', '4', 'transcript', 'night', '4', '2020', 'democratic', 'national', 'convention', 'dnc', 'august', '20', 'read', 'full', 'transcript', 'event', 'transcribe', 'content', 'try', 'rev', 'free', 'save', 'time', 'transcribing', 'captioning', 'subtitling'], 'Democratic'], [['calling', 'full', 'session', '48th', 'quadrennial', 'national', 'convention', 'democratic', 'party', 'order', 'welcome', 'final', 'session', 'historic', 'memorable', 'convention', 'called', '48th', 'quadrennial', 'democratic', 'national', 'convention', 'order'], 'Democratic'], [['every', 'four', 'years', 'come', 'together', 'reaffirm', 'democracy', 'year', 'come', 'save'], 'Democratic'], [['fight', 'perfect', 'union', 'fighting', 'soul', 'country', 'lives', 'right', 'fight', 'real'], 'Democratic'], [['must', 'come', 'together', 'defeat', 'donald', 'trump', 'elect', 'joe', 'biden', 'kamala', 'harris', 'next', 'president', 'vice', 'president'], 'Democratic']]\n"
     ]
    }
   ],
   "source": [
    "# fill this list up with items that are themselves lists. The \n",
    "# first element in the sublist should be the cleaned and tokenized\n",
    "# text in a single string. As part of your cleaning process,\n",
    "# remove the stopwords from the text. The second element of the sublist\n",
    "# should be the party. \n",
    "convention_data = conventions_raw_df[[\"tokens\", \"party\"]].values.tolist()\n",
    "print(convention_data[:5])"
   ]
  },
  {
   "cell_type": "markdown",
   "metadata": {},
   "source": [
    "Let's look at some random entries and see if they look right. "
   ]
  },
  {
   "cell_type": "code",
   "execution_count": 76,
   "metadata": {},
   "outputs": [
    {
     "data": {
      "text/plain": [
       "[[['trump',\n",
       "   'team',\n",
       "   'gave',\n",
       "   'us',\n",
       "   'empathy',\n",
       "   'never',\n",
       "   'received',\n",
       "   'obama',\n",
       "   'administration',\n",
       "   'obama',\n",
       "   'administration',\n",
       "   'said',\n",
       "   'everything',\n",
       "   'could',\n",
       "   'trump',\n",
       "   'administration',\n",
       "   'let',\n",
       "   'say',\n",
       "   'kayla',\n",
       "   'donald',\n",
       "   'trump',\n",
       "   'president',\n",
       "   'kayla',\n",
       "   'captured',\n",
       "   'would',\n",
       "   'today',\n",
       "   'kayla',\n",
       "   'hostage',\n",
       "   'would',\n",
       "   'go',\n",
       "   'outside',\n",
       "   'night',\n",
       "   'look',\n",
       "   'moon',\n",
       "   'would',\n",
       "   'look',\n",
       "   'moon',\n",
       "   'would',\n",
       "   'promise',\n",
       "   'would',\n",
       "   'everything',\n",
       "   'could',\n",
       "   'get',\n",
       "   'home',\n",
       "   'see',\n",
       "   'moon',\n",
       "   'reminded',\n",
       "   'promise',\n",
       "   'could',\n",
       "   'keep'],\n",
       "  'Republican'],\n",
       " [['proudly',\n",
       "   'displayed',\n",
       "   'shortly',\n",
       "   'later',\n",
       "   'website',\n",
       "   'displayed',\n",
       "   'big',\n",
       "   'letters',\n",
       "   'make',\n",
       "   'mistake',\n",
       "   'give',\n",
       "   'power',\n",
       "   'joe',\n",
       "   'biden',\n",
       "   'radical',\n",
       "   'left',\n",
       "   'defund',\n",
       "   'police',\n",
       "   'departments',\n",
       "   'across',\n",
       "   'america',\n",
       "   'pass',\n",
       "   'federal',\n",
       "   'legislation',\n",
       "   'reduce',\n",
       "   'law',\n",
       "   'enforcement',\n",
       "   'nationwide',\n",
       "   'make',\n",
       "   'every',\n",
       "   'city',\n",
       "   'look',\n",
       "   'like',\n",
       "   'democratrun',\n",
       "   'portland',\n",
       "   'oregon',\n",
       "   'one',\n",
       "   'safe',\n",
       "   'biden’s',\n",
       "   'america',\n",
       "   'administration',\n",
       "   'always',\n",
       "   'stand',\n",
       "   'men',\n",
       "   'women',\n",
       "   'law',\n",
       "   'enforcement',\n",
       "   'every',\n",
       "   'day',\n",
       "   'police',\n",
       "   'officers',\n",
       "   'risk',\n",
       "   'lives',\n",
       "   'keep',\n",
       "   'us',\n",
       "   'safe',\n",
       "   'every',\n",
       "   'year',\n",
       "   'many',\n",
       "   'sacrifice',\n",
       "   'lives',\n",
       "   'line',\n",
       "   'duty',\n",
       "   'one',\n",
       "   'incredible',\n",
       "   'americans',\n",
       "   'detective',\n",
       "   'miosotis',\n",
       "   'familia'],\n",
       "  'Republican'],\n",
       " [['thank',\n",
       "   'us',\n",
       "   'people',\n",
       "   'want',\n",
       "   'get',\n",
       "   'back',\n",
       "   'get',\n",
       "   'back',\n",
       "   'back',\n",
       "   'soon',\n",
       "   'thank',\n",
       "   'much',\n",
       "   'appreciate',\n",
       "   'great',\n",
       "   'stories'],\n",
       "  'Republican'],\n",
       " [['michigan'], 'Republican'],\n",
       " [['indiana'], 'Democratic']]"
      ]
     },
     "execution_count": 76,
     "metadata": {},
     "output_type": "execute_result"
    }
   ],
   "source": [
    "random.choices(convention_data,k=5)"
   ]
  },
  {
   "cell_type": "markdown",
   "metadata": {},
   "source": [
    "If that looks good, we now need to make our function to turn these into features. In my solution, I wanted to keep the number of features reasonable, so I only used words that occur at least `word_cutoff` times. Here's the code to test that if you want it. "
   ]
  },
  {
   "cell_type": "code",
   "execution_count": 79,
   "metadata": {},
   "outputs": [
    {
     "name": "stdout",
     "output_type": "stream",
     "text": [
      "With a word cutoff of 5, we have 2348 as features in the model.\n"
     ]
    }
   ],
   "source": [
    "word_cutoff = 5\n",
    "\n",
    "tokens = [token for token_list, party in convention_data for token in token_list]\n",
    "\n",
    "word_dist = nltk.FreqDist(tokens)\n",
    "\n",
    "feature_words = set()\n",
    "\n",
    "for word, count in word_dist.items() :\n",
    "    if count > word_cutoff :\n",
    "        feature_words.add(word)\n",
    "        \n",
    "print(f\"With a word cutoff of {word_cutoff}, we have {len(feature_words)} as features in the model.\")"
   ]
  },
  {
   "cell_type": "code",
   "execution_count": 86,
   "metadata": {},
   "outputs": [],
   "source": [
    "def conv_features(text,fw) :\n",
    "    \"\"\"Given some text, this returns a dictionary holding the\n",
    "       feature words.\n",
    "       \n",
    "       Args: \n",
    "            * text: a piece of text in a continuous string. Assumes\n",
    "            text has been cleaned and case folded.\n",
    "            * fw: the *feature words* that we're considering. A word \n",
    "            in `text` must be in fw in order to be returned. This \n",
    "            prevents us from considering very rarely occurring words.\n",
    "        \n",
    "       Returns: \n",
    "            A dictionary with the words in `text` that appear in `fw`. \n",
    "            Words are only counted once. \n",
    "            If `text` were \"quick quick brown fox\" and `fw` = {'quick','fox','jumps'},\n",
    "            then this would return a dictionary of \n",
    "            {'quick' : True,\n",
    "             'fox' :    True}\n",
    "        \n",
    "    \"\"\"\n",
    "    # Intitialize empty dict\n",
    "    ret_dict = dict()\n",
    "    \n",
    "    # Split text on whitespace if not already list\n",
    "    if type(text) != list:\n",
    "        collapse_whitespace = re.compile(r'\\s+')\n",
    "        text = collapse_whitespace.split(text)\n",
    "    \n",
    "    # Iterate through tokens in text to append to dict\n",
    "    for i in text:\n",
    "        if (i in fw) & (i not in ret_dict.keys()):\n",
    "            ret_dict[i] = True\n",
    "    \n",
    "    return(ret_dict)"
   ]
  },
  {
   "cell_type": "code",
   "execution_count": 84,
   "metadata": {},
   "outputs": [
    {
     "name": "stdout",
     "output_type": "stream",
     "text": [
      "{'quick': True, 'fox': True}\n"
     ]
    }
   ],
   "source": [
    "# Test example provided\n",
    "text = \"quick quick brown fox\"\n",
    "fw = {'quick', 'fox', 'jumps'}\n",
    "print(conv_features(text, fw))"
   ]
  },
  {
   "cell_type": "code",
   "execution_count": 81,
   "metadata": {},
   "outputs": [],
   "source": [
    "assert(len(feature_words)>0)\n",
    "assert(conv_features(\"donald is the president\",feature_words)==\n",
    "       {'donald':True,'president':True})\n",
    "assert(conv_features(\"some people in america are citizens\",feature_words)==\n",
    "                     {'people':True,'america':True,\"citizens\":True})"
   ]
  },
  {
   "cell_type": "markdown",
   "metadata": {},
   "source": [
    "Now we'll build our feature set. Out of curiosity I did a train/test split to see how accurate the classifier was, but we don't strictly need to since this analysis is exploratory. "
   ]
  },
  {
   "cell_type": "code",
   "execution_count": 87,
   "metadata": {},
   "outputs": [],
   "source": [
    "featuresets = [(conv_features(text,feature_words), party) for (text, party) in convention_data]"
   ]
  },
  {
   "cell_type": "code",
   "execution_count": 88,
   "metadata": {},
   "outputs": [],
   "source": [
    "random.seed(20220507)\n",
    "random.shuffle(featuresets)\n",
    "\n",
    "test_size = 500"
   ]
  },
  {
   "cell_type": "code",
   "execution_count": 89,
   "metadata": {},
   "outputs": [
    {
     "name": "stdout",
     "output_type": "stream",
     "text": [
      "0.506\n"
     ]
    }
   ],
   "source": [
    "test_set, train_set = featuresets[:test_size], featuresets[test_size:]\n",
    "classifier = nltk.NaiveBayesClassifier.train(train_set)\n",
    "print(nltk.classify.accuracy(classifier, test_set))"
   ]
  },
  {
   "cell_type": "code",
   "execution_count": 90,
   "metadata": {},
   "outputs": [
    {
     "name": "stdout",
     "output_type": "stream",
     "text": [
      "Most Informative Features\n",
      "                   china = True           Republ : Democr =     25.8 : 1.0\n",
      "                   votes = True           Democr : Republ =     23.8 : 1.0\n",
      "             enforcement = True           Republ : Democr =     21.5 : 1.0\n",
      "                 destroy = True           Republ : Democr =     19.2 : 1.0\n",
      "                freedoms = True           Republ : Democr =     18.2 : 1.0\n",
      "                 climate = True           Democr : Republ =     17.8 : 1.0\n",
      "                supports = True           Republ : Democr =     17.1 : 1.0\n",
      "                   crime = True           Republ : Democr =     16.1 : 1.0\n",
      "                   media = True           Republ : Democr =     14.9 : 1.0\n",
      "                 beliefs = True           Republ : Democr =     13.0 : 1.0\n",
      "               countries = True           Republ : Democr =     13.0 : 1.0\n",
      "                 defense = True           Republ : Democr =     13.0 : 1.0\n",
      "                    isis = True           Republ : Democr =     13.0 : 1.0\n",
      "                 liberal = True           Republ : Democr =     13.0 : 1.0\n",
      "                religion = True           Republ : Democr =     13.0 : 1.0\n",
      "                   trade = True           Republ : Democr =     12.7 : 1.0\n",
      "                    flag = True           Republ : Democr =     12.1 : 1.0\n",
      "               greatness = True           Republ : Democr =     12.1 : 1.0\n",
      "                 abraham = True           Republ : Democr =     11.9 : 1.0\n",
      "                  defund = True           Republ : Democr =     11.9 : 1.0\n",
      "                    drug = True           Republ : Democr =     10.9 : 1.0\n",
      "              department = True           Republ : Democr =     10.9 : 1.0\n",
      "               destroyed = True           Republ : Democr =     10.9 : 1.0\n",
      "                   enemy = True           Republ : Democr =     10.9 : 1.0\n",
      "               amendment = True           Republ : Democr =     10.3 : 1.0\n"
     ]
    }
   ],
   "source": [
    "classifier.show_most_informative_features(25)"
   ]
  },
  {
   "cell_type": "markdown",
   "metadata": {},
   "source": [
    "Write a little prose here about what you see in the classifier. Anything odd or interesting?\n",
    "\n",
    "### My Observations\n",
    "\n",
    "_Your observations to come._\n",
    "\n"
   ]
  },
  {
   "cell_type": "markdown",
   "metadata": {},
   "source": [
    "## Part 2: Classifying Congressional Tweets\n",
    "\n",
    "In this part we apply the classifer we just built to a set of tweets by people running for congress\n",
    "in 2018. These tweets are stored in the database `congressional_data.db`. That DB is funky, so I'll\n",
    "give you the query I used to pull out the tweets. Note that this DB has some big tables and \n",
    "is unindexed, so the query takes a minute or two to run on my machine."
   ]
  },
  {
   "cell_type": "code",
   "execution_count": 91,
   "metadata": {},
   "outputs": [],
   "source": [
    "cong_db = sqlite3.connect(\"congressional_data.db\")\n",
    "cong_cur = cong_db.cursor()"
   ]
  },
  {
   "cell_type": "code",
   "execution_count": 94,
   "metadata": {},
   "outputs": [
    {
     "data": {
      "text/html": [
       "<div>\n",
       "<style scoped>\n",
       "    .dataframe tbody tr th:only-of-type {\n",
       "        vertical-align: middle;\n",
       "    }\n",
       "\n",
       "    .dataframe tbody tr th {\n",
       "        vertical-align: top;\n",
       "    }\n",
       "\n",
       "    .dataframe thead th {\n",
       "        text-align: right;\n",
       "    }\n",
       "</style>\n",
       "<table border=\"1\" class=\"dataframe\">\n",
       "  <thead>\n",
       "    <tr style=\"text-align: right;\">\n",
       "      <th></th>\n",
       "      <th>candidate</th>\n",
       "      <th>party</th>\n",
       "      <th>tweet_text</th>\n",
       "    </tr>\n",
       "  </thead>\n",
       "  <tbody>\n",
       "    <tr>\n",
       "      <th>0</th>\n",
       "      <td>Mo Brooks</td>\n",
       "      <td>Republican</td>\n",
       "      <td>b'\"Brooks Joins Alabama Delegation in Voting A...</td>\n",
       "    </tr>\n",
       "    <tr>\n",
       "      <th>1</th>\n",
       "      <td>Mo Brooks</td>\n",
       "      <td>Republican</td>\n",
       "      <td>b'\"Brooks: Senate Democrats Allowing President...</td>\n",
       "    </tr>\n",
       "    <tr>\n",
       "      <th>2</th>\n",
       "      <td>Mo Brooks</td>\n",
       "      <td>Republican</td>\n",
       "      <td>b'\"NASA on the Square\" event this Sat. 11AM \\x...</td>\n",
       "    </tr>\n",
       "    <tr>\n",
       "      <th>3</th>\n",
       "      <td>Mo Brooks</td>\n",
       "      <td>Republican</td>\n",
       "      <td>b'\"The trouble with Socialism is that eventual...</td>\n",
       "    </tr>\n",
       "    <tr>\n",
       "      <th>4</th>\n",
       "      <td>Mo Brooks</td>\n",
       "      <td>Republican</td>\n",
       "      <td>b'\"The trouble with socialism is eventually yo...</td>\n",
       "    </tr>\n",
       "  </tbody>\n",
       "</table>\n",
       "</div>"
      ],
      "text/plain": [
       "   candidate       party                                         tweet_text\n",
       "0  Mo Brooks  Republican  b'\"Brooks Joins Alabama Delegation in Voting A...\n",
       "1  Mo Brooks  Republican  b'\"Brooks: Senate Democrats Allowing President...\n",
       "2  Mo Brooks  Republican  b'\"NASA on the Square\" event this Sat. 11AM \\x...\n",
       "3  Mo Brooks  Republican  b'\"The trouble with Socialism is that eventual...\n",
       "4  Mo Brooks  Republican  b'\"The trouble with socialism is eventually yo..."
      ]
     },
     "execution_count": 94,
     "metadata": {},
     "output_type": "execute_result"
    }
   ],
   "source": [
    "query2 = '''\n",
    "           SELECT DISTINCT \n",
    "                  cd.candidate, \n",
    "                  cd.party,\n",
    "                  tw.tweet_text\n",
    "           FROM candidate_data cd \n",
    "           INNER JOIN tweets tw ON cd.twitter_handle = tw.handle \n",
    "               AND cd.candidate == tw.candidate \n",
    "               AND cd.district == tw.district\n",
    "           WHERE cd.party in ('Republican','Democratic') \n",
    "               AND tw.tweet_text NOT LIKE '%RT%';\n",
    "        '''\n",
    "\n",
    "tweets_raw_df = pd.read_sql_query(query2, cong_db)\n",
    "tweets_raw_df.head()"
   ]
  },
  {
   "cell_type": "code",
   "execution_count": 96,
   "metadata": {},
   "outputs": [
    {
     "name": "stdout",
     "output_type": "stream",
     "text": [
      "[[['bbrooks', 'joins', 'alabama', 'delegation', 'voting', 'flawed', 'funding', 'bill', 'httptco3cwjiwysnq'], 'Republican'], [['bbrooks', 'senate', 'democrats', 'allowing', 'president', 'give', 'americansxe2x80x99', 'jobs', 'illegals', 'securetheborder', 'httpstcomzteax8xs6'], 'Republican'], [['bnasa', 'square', 'event', 'sat', '11am', 'xe2x80x93', '4pm', 'stop', 'amp', 'hear', 'incredible', 'work', 'done', 'al05', 'downtownhsv', 'httptcor9zy8wmepa'], 'Republican'], [['bthe', 'trouble', 'socialism', 'eventually', 'run', 'peoples', 'money', 'margaret', 'thatcher', 'httpstcox97g7wzqwj'], 'Republican'], [['bthe', 'trouble', 'socialism', 'eventually', 'run', 'peoples', 'money', 'xe2x80x93', 'thatcher', 'sorely', 'missed', 'httptcoz8gbndquh8'], 'Republican']]\n"
     ]
    }
   ],
   "source": [
    "# Now fill up tweet_data with sublists like we did on the convention speeches.\n",
    "# Note that this may take a bit of time, since we have a lot of tweets.\n",
    "tweets_raw_df[\"tokens\"] = tweets_raw_df[\"tweet_text\"].apply(prepare,pipeline=default_pipeline)\n",
    "tweets_raw_df.head()\n",
    "\n",
    "tweet_data = tweets_raw_df[[\"tokens\", \"party\"]].values.tolist()\n",
    "print(tweet_data[:5])"
   ]
  },
  {
   "cell_type": "markdown",
   "metadata": {},
   "source": [
    "There are a lot of tweets here. Let's take a random sample and see how our classifer does. I'm guessing it won't be too great given the performance on the convention speeches..."
   ]
  },
  {
   "cell_type": "code",
   "execution_count": 97,
   "metadata": {},
   "outputs": [],
   "source": [
    "random.seed(20201014)\n",
    "\n",
    "tweet_data_sample = random.choices(tweet_data,k=10)"
   ]
  },
  {
   "cell_type": "code",
   "execution_count": 101,
   "metadata": {},
   "outputs": [
    {
     "name": "stdout",
     "output_type": "stream",
     "text": [
      "Here's our (cleaned) tweet: ['bearlier', 'today', 'spoke', 'house', 'floor', 'protecting', 'health', 'care', 'women', 'praised', 'ppmarmonte', 'work', 'central', 'coast', 'httpstcowqgtrzt7vv']\n",
      "Actual party is Democratic and our classifer says Republican.\n",
      "\n",
      "Here's our (cleaned) tweet: ['bgo', 'tribe', 'rallytogether', 'httpstco0nxutfl9l5']\n",
      "Actual party is Democratic and our classifer says Democratic.\n",
      "\n",
      "Here's our (cleaned) tweet: ['bapparently', 'trump', 'thinks', 'easy', 'students', 'overwhelmed', 'crushing', 'burden', 'debt', 'pay', 'student', 'loans', 'trumpbudget', 'httpstcockyqo5t0qh']\n",
      "Actual party is Democratic and our classifer says Republican.\n",
      "\n",
      "Here's our (cleaned) tweet: ['bwexe2x80x99re', 'grateful', 'first', 'responders', 'rescue', 'personnel', 'firefighters', 'police', 'volunteers', 'working', 'tirelessly', 'keep', 'people', 'safe', 'provide', 'muchneeded', 'help', 'putting', 'lives', 'linennhttpstcoezpv0vmiz3']\n",
      "Actual party is Republican and our classifer says Republican.\n",
      "\n",
      "Here's our (cleaned) tweet: ['bletxe2x80x99s', 'make', 'even', 'greater', 'kag', 'xf0x9fx87xbaxf0x9fx87xb8', 'httpstcoy9qozd5l2z']\n",
      "Actual party is Republican and our classifer says Republican.\n",
      "\n",
      "Here's our (cleaned) tweet: ['bwe', '1hr', 'cavs', 'tie', 'series', '22', 'allin216', 'repbarbaralee', 'scared', 'roadtovictory']\n",
      "Actual party is Democratic and our classifer says Republican.\n",
      "\n",
      "Here's our (cleaned) tweet: ['bcongrats', 'belliottsd', 'new', 'gig', 'sd', 'city', 'hall', 'glad', 'continue', 'servexe2x80xa6', 'httpstcofkvmw3cqdi']\n",
      "Actual party is Democratic and our classifer says Republican.\n",
      "\n",
      "Here's our (cleaned) tweet: ['bwe', 'really', 'close', '3500', 'raised', 'toward', 'match', 'right', 'whoot', 'thatxe2x80x99s', '7000', 'nonmath', 'majors', 'room', 'xf0x9fx98x82', 'help', 'us', 'get', 'httpstcotu34c472sd', 'httpstcoqsdqkypsmc']\n",
      "Actual party is Democratic and our classifer says Republican.\n",
      "\n",
      "Here's our (cleaned) tweet: ['btoday', 'comment', 'period', 'potusxe2x80x99s', 'plan', 'expand', 'offshore', 'drilling', 'opened', 'public', '60', 'days', 'march', '9', 'share', 'oppose', 'proposed', 'program', 'directly', 'trump', 'administration', 'comments', 'made', 'email', 'mail', 'httpstcobaaymejxqn']\n",
      "Actual party is Democratic and our classifer says Republican.\n",
      "\n",
      "Here's our (cleaned) tweet: ['bcelebrated', 'icseastlaxe2x80x99s', '22', 'years', 'eastside', 'commitment', 'amp', 'saluted', 'community', 'leaders', 'last', 'nightxe2x80x99s', 'awards', 'dinner', 'httpstco7v7gh8givb']\n",
      "Actual party is Democratic and our classifer says Republican.\n",
      "\n"
     ]
    }
   ],
   "source": [
    "for tweet, party in tweet_data_sample :\n",
    "    # Fill in the code that estimates the actual party\n",
    "    featureset = conv_features(tweet, feature_words)\n",
    "    estimated_party = classifier.classify(featureset)\n",
    "    \n",
    "    print(f\"Here's our (cleaned) tweet: {tweet}\")\n",
    "    print(f\"Actual party is {party} and our classifer says {estimated_party}.\")\n",
    "    print(\"\")"
   ]
  },
  {
   "cell_type": "markdown",
   "metadata": {},
   "source": [
    "Now that we've looked at it some, let's score a bunch and see how we're doing."
   ]
  },
  {
   "cell_type": "code",
   "execution_count": 104,
   "metadata": {},
   "outputs": [],
   "source": [
    "# dictionary of counts by actual party and estimated party. \n",
    "# first key is actual, second is estimated\n",
    "parties = ['Republican','Democratic']\n",
    "results = defaultdict(lambda: defaultdict(int))\n",
    "\n",
    "for p in parties :\n",
    "    for p1 in parties :\n",
    "        results[p][p1] = 0\n",
    "\n",
    "\n",
    "num_to_score = 10000\n",
    "random.shuffle(tweet_data)\n",
    "\n",
    "for idx, tp in enumerate(tweet_data) :\n",
    "    tweet, party = tp    \n",
    "    # Now do the same thing as above, but we store the results rather\n",
    "    # than printing them. \n",
    "    featureset = conv_features(tweet, feature_words)\n",
    "    # get the estimated party\n",
    "    estimated_party = classifier.classify(featureset)\n",
    "    \n",
    "    results[party][estimated_party] += 1\n",
    "    \n",
    "    if idx > num_to_score : \n",
    "        break"
   ]
  },
  {
   "cell_type": "code",
   "execution_count": 105,
   "metadata": {},
   "outputs": [
    {
     "data": {
      "text/plain": [
       "defaultdict(<function __main__.<lambda>()>,\n",
       "            {'Republican': defaultdict(int,\n",
       "                         {'Republican': 3587, 'Democratic': 704}),\n",
       "             'Democratic': defaultdict(int,\n",
       "                         {'Republican': 4721, 'Democratic': 990})})"
      ]
     },
     "execution_count": 105,
     "metadata": {},
     "output_type": "execute_result"
    }
   ],
   "source": [
    "results"
   ]
  },
  {
   "cell_type": "code",
   "execution_count": 114,
   "metadata": {},
   "outputs": [
    {
     "data": {
      "image/png": "[encoded data removed]",
      "text/plain": [
       "<Figure size 1000x700 with 2 Axes>"
      ]
     },
     "metadata": {},
     "output_type": "display_data"
    }
   ],
   "source": [
    "# Turn results into confusion matrix for ease of visualizing\n",
    "# Create the confusion matrix\n",
    "confusion_matrix = pd.DataFrame(results).T\n",
    "\n",
    "# Plot the confusion matrix\n",
    "plt.figure(figsize=(10, 7))\n",
    "sns.heatmap(confusion_matrix, annot=True, fmt=\"d\", cmap=\"Purples\", xticklabels=parties, yticklabels=parties)\n",
    "plt.xlabel(\"Estimated Party\")\n",
    "plt.ylabel(\"Actual Party\")\n",
    "plt.title(\"Confusion Matrix of Results: Actual vs. Estimated Party\")\n",
    "plt.show()"
   ]
  },
  {
   "cell_type": "code",
   "execution_count": 126,
   "metadata": {},
   "outputs": [
    {
     "name": "stdout",
     "output_type": "stream",
     "text": [
      "Accuracy: 0.45760847830433915\n",
      "Sensitivity: 0.8359356793288277\n",
      "Specificity: 0.17334967606373664\n"
     ]
    }
   ],
   "source": [
    "# Get metrics for more accurate reflections below as well\n",
    "results_df = pd.DataFrame(results)\n",
    "TP = results_df.loc['Republican', 'Republican']\n",
    "FP = results_df.loc['Republican', 'Democratic']\n",
    "FN = results_df.loc['Democratic', 'Republican']\n",
    "TN = results_df.loc['Democratic', 'Democratic']\n",
    "\n",
    "accuracy = (TP + TN) / (TP + TN + FP + FN)\n",
    "sensitivity = TP / (TP + FN)\n",
    "specificity = TN / (TN + FP)\n",
    "\n",
    "print(\"Accuracy: \" + str(accuracy))\n",
    "print(\"Sensitivity: \" + str(sensitivity))\n",
    "print(\"Specificity: \" + str(specificity))"
   ]
  },
  {
   "cell_type": "markdown",
   "metadata": {},
   "source": [
    "### Reflections\n",
    "\n",
    "_Write a little about what you see in the results_ "
   ]
  }
 ],
 "metadata": {
  "kernelspec": {
   "display_name": "Python 3 (ipykernel)",
   "language": "python",
   "name": "python3"
  },
  "language_info": {
   "codemirror_mode": {
    "name": "ipython",
    "version": 3
   },
   "file_extension": ".py",
   "mimetype": "text/x-python",
   "name": "python",
   "nbconvert_exporter": "python",
   "pygments_lexer": "ipython3",
   "version": "3.9.13"
  }
 },
 "nbformat": 4,
 "nbformat_minor": 4
}
